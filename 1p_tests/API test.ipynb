{
 "cells": [
  {
   "cell_type": "code",
   "execution_count": 1,
   "metadata": {},
   "outputs": [],
   "source": [
    "import isx\n",
    "from pathlib import Path"
   ]
  },
  {
   "cell_type": "code",
   "execution_count": 2,
   "metadata": {},
   "outputs": [],
   "source": [
    "raw_data = Path(r\"C:\\data\\test API\\raw_data\\session_1\\recording_20160613_105808-PP-PP.isxd\")"
   ]
  },
  {
   "cell_type": "code",
   "execution_count": 53,
   "metadata": {},
   "outputs": [],
   "source": [
    "recording_name = raw_data.name.split(\".\")[0]\n",
    "raw_data_dir = raw_data.parent\n",
    "processed_data_dir = raw_data_dir / (recording_name + \"_processed\") \n",
    "processed_data_dir.mkdir(exist_ok=True)\n",
    "exports_dir = raw_data_dir / \"exports\"\n",
    "exports_dir.mkdir(exist_ok=True)"
   ]
  },
  {
   "cell_type": "code",
   "execution_count": 25,
   "metadata": {},
   "outputs": [],
   "source": [
    "pp_file = processed_data_dir / \"preprocessed.isxd\"\n",
    "isx.preprocess(str(raw_data), str(pp_file))"
   ]
  },
  {
   "cell_type": "code",
   "execution_count": 27,
   "metadata": {},
   "outputs": [],
   "source": [
    "spatial_filter_file = processed_data_dir / \"spatial_filter.isxd\"\n",
    "isx.spatial_filter(str(pp_file), str(spatial_filter_file))"
   ]
  },
  {
   "cell_type": "code",
   "execution_count": 29,
   "metadata": {},
   "outputs": [],
   "source": [
    "motion_corrected_file = processed_data_dir / \"motion_corrected.isxd\"\n",
    "isx.motion_correct(str(spatial_filter_file), str(motion_corrected_file))"
   ]
  },
  {
   "cell_type": "code",
   "execution_count": 30,
   "metadata": {},
   "outputs": [],
   "source": [
    "dff_file = processed_data_dir / \"dff.isxd\"\n",
    "isx.motion_correct(str(motion_corrected_file), str(dff_file))"
   ]
  },
  {
   "cell_type": "code",
   "execution_count": 40,
   "metadata": {},
   "outputs": [
    {
     "data": {
      "text/plain": [
       "True"
      ]
     },
     "execution_count": 40,
     "metadata": {},
     "output_type": "execute_result"
    }
   ],
   "source": [
    "pca_ica_file = processed_data_dir / \"pca_ica.isxd\"\n",
    "num_cells = 150\n",
    "isx.pca_ica(str(dff_file), str(pca_ica_file), \n",
    "            num_pcs=num_cells, \n",
    "            num_ics=int(1.15 * num_cells)\n",
    "           )"
   ]
  },
  {
   "cell_type": "code",
   "execution_count": 55,
   "metadata": {},
   "outputs": [],
   "source": [
    "event_file = processed_data_dir / \"events.isxd\"\n",
    "isx.event_detection(str(pca_ica_file), str(event_file))"
   ]
  },
  {
   "cell_type": "code",
   "execution_count": 56,
   "metadata": {},
   "outputs": [],
   "source": [
    "FILTERS = [(\"# Comps\", \"=\", 1), \n",
    "           (\"Cell Size\", \">\", 7), \n",
    "           (\"Cell Size\", \"<\", 70), (\"SNR\", \">\", 3)\n",
    "          ]\n",
    "isx.auto_accept_reject(str(pca_ica_file), str(event_file), FILTERS)"
   ]
  },
  {
   "cell_type": "code",
   "execution_count": 59,
   "metadata": {},
   "outputs": [],
   "source": [
    "trace_file = exports_dir / \"cell_traces.csv\"\n",
    "tiff_out = exports_dir / \"images\" /  \"images.tiff\"\n",
    "tiff_out.parent.mkdir(exist_ok=True)\n",
    "\n",
    "isx.export_cell_set_to_csv_tiff(str(pca_ica_file), \n",
    "                                str(trace_file), str(tiff_out)\n",
    "                               )"
   ]
  },
  {
   "cell_type": "code",
   "execution_count": null,
   "metadata": {},
   "outputs": [],
   "source": [
    "class Auto1p:\n",
    "    \n",
    "    def __init__(self, raw_data_path: str):\n",
    "        self.raw_data_path = Path(raw_data_path)\n",
    "        self.recording_name = self.raw_data_path.name.split(\".\")[0]\n",
    "        self.raw_data_dir = raw_data.parent\n",
    "        self.processed_data_dir = raw_data_dir / (recording_name + \"_processed\") \n",
    "        processed_data_dir.mkdir(exist_ok=True)\n",
    "        self.exports_dir = raw_data_dir / \"exports\"\n",
    "        exports_dir.mkdir(exist_ok=True)\n",
    "    \n",
    "    def preprocess(self, r):\n",
    "        pp_file = self.processed_data_dir / \"preprocessed.isxd\"\n",
    "        if pp_file.exists():\n",
    "            "
   ]
  },
  {
   "cell_type": "code",
   "execution_count": 61,
   "metadata": {},
   "outputs": [],
   "source": [
    "test = raw_data / \"hello\""
   ]
  },
  {
   "cell_type": "code",
   "execution_count": null,
   "metadata": {},
   "outputs": [],
   "source": []
  },
  {
   "cell_type": "code",
   "execution_count": 3,
   "metadata": {},
   "outputs": [],
   "source": [
    "from utils import SessionAutoProcessor"
   ]
  },
  {
   "cell_type": "code",
   "execution_count": 4,
   "metadata": {},
   "outputs": [],
   "source": [
    "processor = SessionAutoProcessor(raw_data)"
   ]
  },
  {
   "cell_type": "code",
   "execution_count": 5,
   "metadata": {
    "scrolled": true
   },
   "outputs": [],
   "source": [
    "processor.preprocess()"
   ]
  },
  {
   "cell_type": "code",
   "execution_count": 6,
   "metadata": {},
   "outputs": [],
   "source": [
    "processor.spatial_filter()"
   ]
  },
  {
   "cell_type": "code",
   "execution_count": 7,
   "metadata": {},
   "outputs": [],
   "source": [
    "processor.motion_correct()"
   ]
  },
  {
   "cell_type": "code",
   "execution_count": 8,
   "metadata": {},
   "outputs": [],
   "source": [
    "processor.get_dff()"
   ]
  },
  {
   "cell_type": "code",
   "execution_count": 9,
   "metadata": {},
   "outputs": [],
   "source": [
    "processor.run_pca_ica()"
   ]
  },
  {
   "cell_type": "code",
   "execution_count": 10,
   "metadata": {},
   "outputs": [
    {
     "ename": "Exception",
     "evalue": "Error calling C library function isx_export_event_set.\nExpected data set to be of type: Event Set. Instead it is of type: Cell Set. ",
     "output_type": "error",
     "traceback": [
      "\u001b[1;31m---------------------------------------------------------------------------\u001b[0m",
      "\u001b[1;31mException\u001b[0m                                 Traceback (most recent call last)",
      "\u001b[1;32m<ipython-input-10-58b2888c2824>\u001b[0m in \u001b[0;36m<module>\u001b[1;34m\u001b[0m\n\u001b[1;32m----> 1\u001b[1;33m \u001b[0mprocessor\u001b[0m\u001b[1;33m.\u001b[0m\u001b[0mexport_data\u001b[0m\u001b[1;33m(\u001b[0m\u001b[1;33m)\u001b[0m\u001b[1;33m\u001b[0m\u001b[1;33m\u001b[0m\u001b[0m\n\u001b[0m",
      "\u001b[1;32m~\\repos\\ofl\\1p_tests\\utils.py\u001b[0m in \u001b[0;36mexport_data\u001b[1;34m(self)\u001b[0m\n\u001b[0;32m     73\u001b[0m             \u001b[0mstr\u001b[0m\u001b[1;33m(\u001b[0m\u001b[0mself\u001b[0m\u001b[1;33m.\u001b[0m\u001b[0mpca_file\u001b[0m\u001b[1;33m)\u001b[0m\u001b[1;33m,\u001b[0m \u001b[0mstr\u001b[0m\u001b[1;33m(\u001b[0m\u001b[0mtrace_file\u001b[0m\u001b[1;33m)\u001b[0m\u001b[1;33m,\u001b[0m \u001b[0mstr\u001b[0m\u001b[1;33m(\u001b[0m\u001b[0mcell_images\u001b[0m\u001b[1;33m)\u001b[0m\u001b[1;33m\u001b[0m\u001b[1;33m\u001b[0m\u001b[0m\n\u001b[0;32m     74\u001b[0m         )\n\u001b[1;32m---> 75\u001b[1;33m         \u001b[0misx\u001b[0m\u001b[1;33m.\u001b[0m\u001b[0mexport_event_set_to_csv\u001b[0m\u001b[1;33m(\u001b[0m\u001b[0mstr\u001b[0m\u001b[1;33m(\u001b[0m\u001b[0mself\u001b[0m\u001b[1;33m.\u001b[0m\u001b[0mpca_file\u001b[0m\u001b[1;33m)\u001b[0m\u001b[1;33m,\u001b[0m \u001b[0mstr\u001b[0m\u001b[1;33m(\u001b[0m\u001b[0mcell_events_file\u001b[0m\u001b[1;33m)\u001b[0m\u001b[1;33m)\u001b[0m\u001b[1;33m\u001b[0m\u001b[1;33m\u001b[0m\u001b[0m\n\u001b[0m\u001b[0;32m     76\u001b[0m         \u001b[0misx\u001b[0m\u001b[1;33m.\u001b[0m\u001b[0mproject_movie\u001b[0m\u001b[1;33m(\u001b[0m\u001b[0mstr\u001b[0m\u001b[1;33m(\u001b[0m\u001b[0mself\u001b[0m\u001b[1;33m.\u001b[0m\u001b[0mdff_file\u001b[0m\u001b[1;33m)\u001b[0m\u001b[1;33m,\u001b[0m \u001b[0mstr\u001b[0m\u001b[1;33m(\u001b[0m\u001b[0maverage_image_file\u001b[0m\u001b[1;33m)\u001b[0m\u001b[1;33m,\u001b[0m \u001b[0mstat_type\u001b[0m\u001b[1;33m=\u001b[0m\u001b[1;34m\"max\"\u001b[0m\u001b[1;33m)\u001b[0m\u001b[1;33m\u001b[0m\u001b[1;33m\u001b[0m\u001b[0m\n\u001b[0;32m     77\u001b[0m \u001b[1;33m\u001b[0m\u001b[0m\n",
      "\u001b[1;32mC:\\Program Files\\Inscopix\\Data Processing\\isx\\io.py\u001b[0m in \u001b[0;36mexport_event_set_to_csv\u001b[1;34m(input_event_set_files, output_csv_file, time_ref, output_props_file)\u001b[0m\n\u001b[0;32m   1003\u001b[0m     isx._internal.c_api.isx_export_event_set(\n\u001b[0;32m   1004\u001b[0m             \u001b[0mnum_event_sets\u001b[0m\u001b[1;33m,\u001b[0m \u001b[0min_event_sets\u001b[0m\u001b[1;33m,\u001b[0m \u001b[0moutput_csv_file\u001b[0m\u001b[1;33m.\u001b[0m\u001b[0mencode\u001b[0m\u001b[1;33m(\u001b[0m\u001b[1;34m'utf-8'\u001b[0m\u001b[1;33m)\u001b[0m\u001b[1;33m,\u001b[0m \u001b[0mtime_ref_int\u001b[0m\u001b[1;33m,\u001b[0m\u001b[1;33m\u001b[0m\u001b[1;33m\u001b[0m\u001b[0m\n\u001b[1;32m-> 1005\u001b[1;33m             output_props_file.encode('utf-8'))\n\u001b[0m",
      "\u001b[1;32mC:\\Program Files\\Inscopix\\Data Processing\\isx\\_internal.py\u001b[0m in \u001b[0;36m_standard_errcheck\u001b[1;34m(return_code, func, args)\u001b[0m\n\u001b[0;32m    114\u001b[0m     \u001b[1;32mif\u001b[0m \u001b[0mreturn_code\u001b[0m \u001b[1;33m!=\u001b[0m \u001b[1;36m0\u001b[0m\u001b[1;33m:\u001b[0m\u001b[1;33m\u001b[0m\u001b[1;33m\u001b[0m\u001b[0m\n\u001b[0;32m    115\u001b[0m         \u001b[0merror_message\u001b[0m \u001b[1;33m=\u001b[0m \u001b[0mc_api\u001b[0m\u001b[1;33m.\u001b[0m\u001b[0misx_get_last_exception_string\u001b[0m\u001b[1;33m(\u001b[0m\u001b[1;33m)\u001b[0m\u001b[1;33m.\u001b[0m\u001b[0mdecode\u001b[0m\u001b[1;33m(\u001b[0m\u001b[1;33m)\u001b[0m\u001b[1;33m\u001b[0m\u001b[1;33m\u001b[0m\u001b[0m\n\u001b[1;32m--> 116\u001b[1;33m         \u001b[1;32mraise\u001b[0m \u001b[0mException\u001b[0m\u001b[1;33m(\u001b[0m\u001b[1;34m\"Error calling C library function {}.\\n{}\"\u001b[0m\u001b[1;33m.\u001b[0m\u001b[0mformat\u001b[0m\u001b[1;33m(\u001b[0m\u001b[0mfunc\u001b[0m\u001b[1;33m.\u001b[0m\u001b[0m__name__\u001b[0m\u001b[1;33m,\u001b[0m \u001b[0merror_message\u001b[0m\u001b[1;33m)\u001b[0m\u001b[1;33m)\u001b[0m\u001b[1;33m\u001b[0m\u001b[1;33m\u001b[0m\u001b[0m\n\u001b[0m\u001b[0;32m    117\u001b[0m     \u001b[1;32mreturn\u001b[0m \u001b[0margs\u001b[0m\u001b[1;33m\u001b[0m\u001b[1;33m\u001b[0m\u001b[0m\n\u001b[0;32m    118\u001b[0m \u001b[1;33m\u001b[0m\u001b[0m\n",
      "\u001b[1;31mException\u001b[0m: Error calling C library function isx_export_event_set.\nExpected data set to be of type: Event Set. Instead it is of type: Cell Set. "
     ]
    }
   ],
   "source": [
    "processor.export_data()"
   ]
  },
  {
   "cell_type": "code",
   "execution_count": null,
   "metadata": {},
   "outputs": [],
   "source": []
  }
 ],
 "metadata": {
  "kernelspec": {
   "display_name": "Python 3",
   "language": "python",
   "name": "python3"
  },
  "language_info": {
   "codemirror_mode": {
    "name": "ipython",
    "version": 3
   },
   "file_extension": ".py",
   "mimetype": "text/x-python",
   "name": "python",
   "nbconvert_exporter": "python",
   "pygments_lexer": "ipython3",
   "version": "3.6.12"
  }
 },
 "nbformat": 4,
 "nbformat_minor": 4
}
